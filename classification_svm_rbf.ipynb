{
 "cells": [
  {
   "cell_type": "code",
   "execution_count": 7,
   "metadata": {},
   "outputs": [],
   "source": [
    "import pickle\n",
    "import os\n",
    "import numpy as np\n",
    "from tqdm import tqdm_notebook\n",
    "from sklearn import model_selection\n",
    "from sklearn import decomposition\n",
    "import networkx as nx\n",
    "from networkx.readwrite import write_gexf\n",
    "from sklearn.svm import SVC\n",
    "from sklearn import metrics\n",
    "from sklearn.model_selection import StratifiedKFold"
   ]
  },
  {
   "cell_type": "markdown",
   "metadata": {},
   "source": [
    "### Loading APT Data"
   ]
  },
  {
   "cell_type": "code",
   "execution_count": 8,
   "metadata": {},
   "outputs": [],
   "source": [
    "f = open(\"data/apt_data.pkl\", \"rb\")\n",
    "data = pickle.load(f)\n",
    "f.close()"
   ]
  },
  {
   "cell_type": "code",
   "execution_count": 9,
   "metadata": {},
   "outputs": [],
   "source": [
    "apt = []\n",
    "file = []\n",
    "embeddings = []\n",
    "for k in data.keys():\n",
    "    emb = [f['embedding'] for f in data[k]['functions'] if f['lenght'] > 20]\n",
    "    emb = np.asarray(emb)\n",
    "    if emb.shape[0] > 0 and data[k]['apt'] != 'Lazarus Group':\n",
    "        embeddings.append(emb)\n",
    "        apt.append(data[k]['apt'].replace(\"\\n\",\"\"))\n",
    "        file.append(k)\n",
    "assert len(apt) == len(embeddings)"
   ]
  },
  {
   "cell_type": "markdown",
   "metadata": {},
   "source": [
    "### Preparing folds for cross validation"
   ]
  },
  {
   "cell_type": "code",
   "execution_count": 10,
   "metadata": {},
   "outputs": [],
   "source": [
    "skf = StratifiedKFold(n_splits=5, shuffle=True)\n",
    "fold = []\n",
    "for train_index, test_index in skf.split(embeddings, apt):\n",
    "    fold.append(test_index)"
   ]
  },
  {
   "cell_type": "code",
   "execution_count": 11,
   "metadata": {},
   "outputs": [],
   "source": [
    "def project(sample, space, SIM_THRESHOLD=0.95):\n",
    "    projection = []\n",
    "    for j in range(0, len(space)):\n",
    "        dot = np.dot(sample, space[j].T)\n",
    "        dist = np.sum(np.sum(dot > SIM_THRESHOLD, axis=1) > 0) / max(sample.shape[0], space[j].shape[0])\n",
    "        projection.append(dist)\n",
    "    return projection"
   ]
  },
  {
   "cell_type": "code",
   "execution_count": 13,
   "metadata": {},
   "outputs": [
    {
     "name": "stdout",
     "output_type": "stream",
     "text": [
      "Val fold: 0\n",
      "Projection fold: 1 Train fold: {2, 3, 4}\n",
      "Projecting training data\n"
     ]
    },
    {
     "data": {
      "application/vnd.jupyter.widget-view+json": {
       "model_id": "09e6df0f05024fa990fcd77360248dff",
       "version_major": 2,
       "version_minor": 0
      },
      "text/plain": [
       "HBox(children=(IntProgress(value=0, max=984), HTML(value='')))"
      ]
     },
     "metadata": {},
     "output_type": "display_data"
    },
    {
     "name": "stdout",
     "output_type": "stream",
     "text": [
      "\n",
      "Projecting validation data\n"
     ]
    },
    {
     "data": {
      "application/vnd.jupyter.widget-view+json": {
       "model_id": "ff3891ee2ba649aeac09b71af6ffa448",
       "version_major": 2,
       "version_minor": 0
      },
      "text/plain": [
       "HBox(children=(IntProgress(value=0, max=338), HTML(value='')))"
      ]
     },
     "metadata": {},
     "output_type": "display_data"
    },
    {
     "name": "stdout",
     "output_type": "stream",
     "text": [
      "\n",
      "Classification\n"
     ]
    },
    {
     "data": {
      "application/vnd.jupyter.widget-view+json": {
       "model_id": "e0267ce6a9f04bdc995da7217fb8d956",
       "version_major": 2,
       "version_minor": 0
      },
      "text/plain": [
       "HBox(children=(IntProgress(value=0, max=1), HTML(value='')))"
      ]
     },
     "metadata": {},
     "output_type": "display_data"
    },
    {
     "name": "stdout",
     "output_type": "stream",
     "text": [
      "\n",
      "Best C: 100, Best GAMMA: 0.1, Validation Accuracy 0.878698224852071\n",
      "Projection fold: 2 Train fold: {1, 3, 4}\n",
      "Projecting training data\n"
     ]
    },
    {
     "data": {
      "application/vnd.jupyter.widget-view+json": {
       "model_id": "5dfd2f2ca5864117914c4fb47944203d",
       "version_major": 2,
       "version_minor": 0
      },
      "text/plain": [
       "HBox(children=(IntProgress(value=0, max=988), HTML(value='')))"
      ]
     },
     "metadata": {},
     "output_type": "display_data"
    },
    {
     "name": "stdout",
     "output_type": "stream",
     "text": [
      "\n",
      "Projecting validation data\n"
     ]
    },
    {
     "data": {
      "application/vnd.jupyter.widget-view+json": {
       "model_id": "498bb0eb3aec4e47a6ae8863ff83dd9d",
       "version_major": 2,
       "version_minor": 0
      },
      "text/plain": [
       "HBox(children=(IntProgress(value=0, max=338), HTML(value='')))"
      ]
     },
     "metadata": {},
     "output_type": "display_data"
    },
    {
     "name": "stdout",
     "output_type": "stream",
     "text": [
      "\n",
      "Classification\n"
     ]
    },
    {
     "data": {
      "application/vnd.jupyter.widget-view+json": {
       "model_id": "7778bf679bd74f5eb207171707839a70",
       "version_major": 2,
       "version_minor": 0
      },
      "text/plain": [
       "HBox(children=(IntProgress(value=0, max=1), HTML(value='')))"
      ]
     },
     "metadata": {},
     "output_type": "display_data"
    },
    {
     "name": "stdout",
     "output_type": "stream",
     "text": [
      "\n",
      "Best C: 100, Best GAMMA: 0.1, Validation Accuracy 0.8579881656804734\n",
      "Projection fold: 3 Train fold: {1, 2, 4}\n",
      "Projecting training data\n"
     ]
    },
    {
     "data": {
      "application/vnd.jupyter.widget-view+json": {
       "model_id": "7a6502a9dc2441459b8f35bc4b2898b3",
       "version_major": 2,
       "version_minor": 0
      },
      "text/plain": [
       "HBox(children=(IntProgress(value=0, max=990), HTML(value='')))"
      ]
     },
     "metadata": {},
     "output_type": "display_data"
    },
    {
     "ename": "KeyboardInterrupt",
     "evalue": "",
     "output_type": "error",
     "traceback": [
      "\u001b[1;31m---------------------------------------------------------------------------\u001b[0m",
      "\u001b[1;31mKeyboardInterrupt\u001b[0m                         Traceback (most recent call last)",
      "\u001b[1;32m<ipython-input-13-0466dda00e1c>\u001b[0m in \u001b[0;36m<module>\u001b[1;34m\u001b[0m\n\u001b[0;32m     21\u001b[0m         \u001b[0mtrain_data\u001b[0m \u001b[1;33m=\u001b[0m \u001b[1;33m[\u001b[0m\u001b[1;33m]\u001b[0m\u001b[1;33m\u001b[0m\u001b[1;33m\u001b[0m\u001b[0m\n\u001b[0;32m     22\u001b[0m         \u001b[1;32mfor\u001b[0m \u001b[0mk\u001b[0m \u001b[1;32min\u001b[0m \u001b[0mtqdm_notebook\u001b[0m\u001b[1;33m(\u001b[0m\u001b[0mrange\u001b[0m\u001b[1;33m(\u001b[0m\u001b[1;36m0\u001b[0m\u001b[1;33m,\u001b[0m \u001b[0mlen\u001b[0m\u001b[1;33m(\u001b[0m\u001b[0mtrain_emb\u001b[0m\u001b[1;33m)\u001b[0m\u001b[1;33m)\u001b[0m\u001b[1;33m)\u001b[0m\u001b[1;33m:\u001b[0m\u001b[1;33m\u001b[0m\u001b[1;33m\u001b[0m\u001b[0m\n\u001b[1;32m---> 23\u001b[1;33m             \u001b[0mtrain_data\u001b[0m\u001b[1;33m.\u001b[0m\u001b[0mappend\u001b[0m\u001b[1;33m(\u001b[0m\u001b[0mproject\u001b[0m\u001b[1;33m(\u001b[0m\u001b[0mtrain_emb\u001b[0m\u001b[1;33m[\u001b[0m\u001b[0mk\u001b[0m\u001b[1;33m]\u001b[0m\u001b[1;33m,\u001b[0m \u001b[0mprojection_emb\u001b[0m\u001b[1;33m)\u001b[0m\u001b[1;33m)\u001b[0m\u001b[1;33m\u001b[0m\u001b[1;33m\u001b[0m\u001b[0m\n\u001b[0m\u001b[0;32m     24\u001b[0m \u001b[1;33m\u001b[0m\u001b[0m\n\u001b[0;32m     25\u001b[0m         \u001b[0mprint\u001b[0m\u001b[1;33m(\u001b[0m\u001b[1;34m\"Projecting validation data\"\u001b[0m\u001b[1;33m)\u001b[0m\u001b[1;33m\u001b[0m\u001b[1;33m\u001b[0m\u001b[0m\n",
      "\u001b[1;32m<ipython-input-11-08f60c192991>\u001b[0m in \u001b[0;36mproject\u001b[1;34m(sample, space, SIM_THRESHOLD)\u001b[0m\n\u001b[0;32m      3\u001b[0m     \u001b[1;32mfor\u001b[0m \u001b[0mj\u001b[0m \u001b[1;32min\u001b[0m \u001b[0mrange\u001b[0m\u001b[1;33m(\u001b[0m\u001b[1;36m0\u001b[0m\u001b[1;33m,\u001b[0m \u001b[0mlen\u001b[0m\u001b[1;33m(\u001b[0m\u001b[0mspace\u001b[0m\u001b[1;33m)\u001b[0m\u001b[1;33m)\u001b[0m\u001b[1;33m:\u001b[0m\u001b[1;33m\u001b[0m\u001b[1;33m\u001b[0m\u001b[0m\n\u001b[0;32m      4\u001b[0m         \u001b[0mdot\u001b[0m \u001b[1;33m=\u001b[0m \u001b[0mnp\u001b[0m\u001b[1;33m.\u001b[0m\u001b[0mdot\u001b[0m\u001b[1;33m(\u001b[0m\u001b[0msample\u001b[0m\u001b[1;33m,\u001b[0m \u001b[0mspace\u001b[0m\u001b[1;33m[\u001b[0m\u001b[0mj\u001b[0m\u001b[1;33m]\u001b[0m\u001b[1;33m.\u001b[0m\u001b[0mT\u001b[0m\u001b[1;33m)\u001b[0m\u001b[1;33m\u001b[0m\u001b[1;33m\u001b[0m\u001b[0m\n\u001b[1;32m----> 5\u001b[1;33m         \u001b[0mdist\u001b[0m \u001b[1;33m=\u001b[0m \u001b[0mnp\u001b[0m\u001b[1;33m.\u001b[0m\u001b[0msum\u001b[0m\u001b[1;33m(\u001b[0m\u001b[0mnp\u001b[0m\u001b[1;33m.\u001b[0m\u001b[0msum\u001b[0m\u001b[1;33m(\u001b[0m\u001b[0mdot\u001b[0m \u001b[1;33m>\u001b[0m \u001b[0mSIM_THRESHOLD\u001b[0m\u001b[1;33m,\u001b[0m \u001b[0maxis\u001b[0m\u001b[1;33m=\u001b[0m\u001b[1;36m1\u001b[0m\u001b[1;33m)\u001b[0m \u001b[1;33m>\u001b[0m \u001b[1;36m0\u001b[0m\u001b[1;33m)\u001b[0m \u001b[1;33m/\u001b[0m \u001b[0mmax\u001b[0m\u001b[1;33m(\u001b[0m\u001b[0msample\u001b[0m\u001b[1;33m.\u001b[0m\u001b[0mshape\u001b[0m\u001b[1;33m[\u001b[0m\u001b[1;36m0\u001b[0m\u001b[1;33m]\u001b[0m\u001b[1;33m,\u001b[0m \u001b[0mspace\u001b[0m\u001b[1;33m[\u001b[0m\u001b[0mj\u001b[0m\u001b[1;33m]\u001b[0m\u001b[1;33m.\u001b[0m\u001b[0mshape\u001b[0m\u001b[1;33m[\u001b[0m\u001b[1;36m0\u001b[0m\u001b[1;33m]\u001b[0m\u001b[1;33m)\u001b[0m\u001b[1;33m\u001b[0m\u001b[1;33m\u001b[0m\u001b[0m\n\u001b[0m\u001b[0;32m      6\u001b[0m         \u001b[0mprojection\u001b[0m\u001b[1;33m.\u001b[0m\u001b[0mappend\u001b[0m\u001b[1;33m(\u001b[0m\u001b[0mdist\u001b[0m\u001b[1;33m)\u001b[0m\u001b[1;33m\u001b[0m\u001b[1;33m\u001b[0m\u001b[0m\n\u001b[0;32m      7\u001b[0m     \u001b[1;32mreturn\u001b[0m \u001b[0mprojection\u001b[0m\u001b[1;33m\u001b[0m\u001b[1;33m\u001b[0m\u001b[0m\n",
      "\u001b[1;31mKeyboardInterrupt\u001b[0m: "
     ]
    }
   ],
   "source": [
    "C = [100]\n",
    "gamma = [0.1]\n",
    "\n",
    "result = []\n",
    "for i in range(0, 5):\n",
    "    print(\"Val fold: {}\".format(i))\n",
    "    val_emb = [embeddings[f] for f in fold[i]]\n",
    "    val_apt = [apt[f] for f in fold[i]]\n",
    "    for j in range(0, 5):\n",
    "        if i == j:\n",
    "            continue\n",
    "        projection_emb = [embeddings[f] for f in fold[j]]\n",
    "        train_fold = set(range(0,5)).difference(set([i,j]))\n",
    "        train_emb = []\n",
    "        train_apt = []\n",
    "        for ff in train_fold:\n",
    "            train_emb.extend([embeddings[f] for f in fold[ff]])\n",
    "            train_apt.extend([apt[f] for f in fold[ff]])\n",
    "        print(\"Projection fold: {} Train fold: {}\".format(j, train_fold))\n",
    "        print(\"Projecting training data\")\n",
    "        train_data = []\n",
    "        for k in tqdm_notebook(range(0, len(train_emb))):\n",
    "            train_data.append(project(train_emb[k], projection_emb))\n",
    "            \n",
    "        print(\"Projecting validation data\")\n",
    "        val_data = []\n",
    "        for k in tqdm_notebook(range(0, len(val_emb))):\n",
    "            val_data.append(project(val_emb[k], projection_emb))\n",
    "\n",
    "        max_acc = 0\n",
    "        best_c = None\n",
    "        best_gamma = None\n",
    "\n",
    "        print(\"Classification\")\n",
    "        for c in tqdm_notebook(C):\n",
    "            for g in gamma:\n",
    "                clf = SVC(C=c, gamma=g, kernel=\"rbf\")\n",
    "                clf.fit(train_data, train_apt)\n",
    "                predictions = clf.predict(val_data)\n",
    "                acc = metrics.accuracy_score(val_apt, predictions)\n",
    "                if acc > max_acc:\n",
    "                    best_c = c\n",
    "                    best_gamma = g\n",
    "                    best_predictions = predictions\n",
    "                    max_acc = acc\n",
    "                    \n",
    "        print(\"Best C: {}, Best GAMMA: {}, Validation Accuracy {}\".format(best_c, best_gamma, max_acc))\n",
    "        \n",
    "        obj = {\n",
    "            \"val_fold\":i,\n",
    "            \"projection_fold\":j,\n",
    "            \"train_fold\":train_fold,\n",
    "            \"C\":best_c,\n",
    "            \"gamma\": best_gamma,\n",
    "            \"accuracy\": max_acc,\n",
    "            \"predictions\":best_predictions,\n",
    "            \"label\":val_apt\n",
    "        }\n",
    "        \n",
    "        result.append(obj)\n"
   ]
  },
  {
   "cell_type": "code",
   "execution_count": null,
   "metadata": {},
   "outputs": [],
   "source": [
    "import pickle\n",
    "f = open('result_cross_val_svm.pkl','wb')\n",
    "pickle.dump(result, f)\n",
    "f.close()"
   ]
  },
  {
   "cell_type": "code",
   "execution_count": null,
   "metadata": {},
   "outputs": [],
   "source": [
    "actual_val_fold = i\n",
    "cum_report = None\n",
    "cnf = np.zeros([len(set(result[0]['label'])),len(set(result[0]['label']))])\n",
    "labels = list(set(result[0]['label']))\n",
    "for r in result:\n",
    "    report = metrics.classification_report(r['predictions'], r['label'], output_dict=True)\n",
    "    cnf = (cnf + metrics.confusion_matrix(r['predictions'], r['label'], labels=labels)) / 2\n",
    "    if cum_report == None:\n",
    "        cum_report = report\n",
    "    else:\n",
    "        for k in report.keys():\n",
    "            if k != 'accuracy':\n",
    "                cum_report[k]['precision'] = (cum_report[k]['precision'] + report[k]['precision']) / 2\n",
    "                cum_report[k]['recall'] = (cum_report[k]['recall'] + report[k]['recall']) / 2\n",
    "                cum_report[k]['f1-score'] = (cum_report[k]['f1-score'] + report[k]['f1-score']) / 2\n",
    "                cum_report[k]['support'] = (cum_report[k]['support'] + report[k]['support']) / 2\n",
    "            else:\n",
    "                cum_report[k] = (cum_report[k] + report[k]) / 2"
   ]
  },
  {
   "cell_type": "code",
   "execution_count": null,
   "metadata": {},
   "outputs": [],
   "source": [
    "import pandas as pd\n",
    "import seaborn as sns\n",
    "import matplotlib.pyplot as plt"
   ]
  },
  {
   "cell_type": "code",
   "execution_count": null,
   "metadata": {},
   "outputs": [],
   "source": [
    "labels[4] = 'Sandworm'"
   ]
  },
  {
   "cell_type": "code",
   "execution_count": null,
   "metadata": {},
   "outputs": [],
   "source": [
    "df_cm = pd.DataFrame(cnf, index=labels, columns=labels)\n",
    "df_cm = df_cm.div(df_cm.sum(axis=1), axis=0)\n",
    "fig = plt.figure(figsize=(10,10))\n",
    "heatmap = sns.heatmap(df_cm, annot=True, fmt=\".2f\", square=True, cmap = sns.cm.rocket_r)\n",
    "plt.savefig(\"confusion_matrix_cross_val_svm.png\")"
   ]
  },
  {
   "cell_type": "code",
   "execution_count": null,
   "metadata": {},
   "outputs": [],
   "source": [
    "report = pd.DataFrame(cum_report).T.round(3)"
   ]
  },
  {
   "cell_type": "code",
   "execution_count": null,
   "metadata": {},
   "outputs": [],
   "source": [
    "report"
   ]
  },
  {
   "cell_type": "code",
   "execution_count": null,
   "metadata": {},
   "outputs": [],
   "source": [
    "f = open(\"classification_result_svm_cross_val.tex\",\"w\")\n",
    "f.write(report.to_latex())\n",
    "f.close()"
   ]
  },
  {
   "cell_type": "code",
   "execution_count": null,
   "metadata": {},
   "outputs": [],
   "source": []
  }
 ],
 "metadata": {
  "kernelspec": {
   "display_name": "Python 3",
   "language": "python",
   "name": "python3"
  },
  "language_info": {
   "codemirror_mode": {
    "name": "ipython",
    "version": 3
   },
   "file_extension": ".py",
   "mimetype": "text/x-python",
   "name": "python",
   "nbconvert_exporter": "python",
   "pygments_lexer": "ipython3",
   "version": "3.6.9"
  }
 },
 "nbformat": 4,
 "nbformat_minor": 4
}
