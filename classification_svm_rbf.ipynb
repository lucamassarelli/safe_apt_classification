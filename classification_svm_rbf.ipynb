{
 "cells": [
  {
   "cell_type": "code",
   "execution_count": 1,
   "metadata": {},
   "outputs": [],
   "source": [
    "import pickle\n",
    "import os\n",
    "import numpy as np\n",
    "from tqdm import tqdm\n",
    "from sklearn import model_selection\n",
    "from sklearn import decomposition\n",
    "import networkx as nx\n",
    "from networkx.readwrite import write_gexf\n",
    "from sklearn.svm import SVC\n",
    "from sklearn import metrics\n",
    "from sklearn.model_selection import StratifiedKFold\n",
    "from downloader import Downloader"
   ]
  },
  {
   "cell_type": "markdown",
   "metadata": {},
   "source": [
    "### Download APT Data"
   ]
  },
  {
   "cell_type": "code",
   "execution_count": 2,
   "metadata": {},
   "outputs": [
    {
     "name": "stdout",
     "output_type": "stream",
     "text": [
      "Making the godown.pl script executable, thanks:https://github.com/circulosmeos/gdown.pl\n",
      "SAFE --- downloading models\n",
      "Downloading apt data.... in the folder data/\n",
      "Downloading from https://drive.google.com/file/d/1t4_FS0_8DIPAyG5guGbK6UcJO52B5fRf/view?usp=sharing into data/apt_data.tar.bz2\n",
      "Decompressing data and placing indata/\n"
     ]
    }
   ],
   "source": [
    "d=Downloader()\n",
    "d.download()"
   ]
  },
  {
   "cell_type": "markdown",
   "metadata": {},
   "source": [
    "### Loading APT Data"
   ]
  },
  {
   "cell_type": "code",
   "execution_count": 4,
   "metadata": {},
   "outputs": [],
   "source": [
    "f = open(\"data/apt_data.pkl\", \"rb\")\n",
    "data = pickle.load(f)\n",
    "f.close()"
   ]
  },
  {
   "cell_type": "code",
   "execution_count": 5,
   "metadata": {},
   "outputs": [],
   "source": [
    "apt = []\n",
    "file = []\n",
    "embeddings = []\n",
    "for k in data.keys():\n",
    "    emb = [f['embedding'] for f in data[k]['functions'] if f['lenght'] > 20]\n",
    "    emb = np.asarray(emb)\n",
    "    if emb.shape[0] > 0 and data[k]['apt'] != 'Lazarus Group':\n",
    "        embeddings.append(emb)\n",
    "        apt.append(data[k]['apt'].replace(\"\\n\",\"\"))\n",
    "        file.append(k)\n",
    "assert len(apt) == len(embeddings)"
   ]
  },
  {
   "cell_type": "markdown",
   "metadata": {},
   "source": [
    "### Preparing folds for cross validation"
   ]
  },
  {
   "cell_type": "code",
   "execution_count": 6,
   "metadata": {},
   "outputs": [],
   "source": [
    "skf = StratifiedKFold(n_splits=5, shuffle=True)\n",
    "fold = []\n",
    "for train_index, test_index in skf.split(embeddings, apt):\n",
    "    fold.append(test_index)"
   ]
  },
  {
   "cell_type": "code",
   "execution_count": 7,
   "metadata": {},
   "outputs": [],
   "source": [
    "def project(sample, space, SIM_THRESHOLD=0.95):\n",
    "    projection = []\n",
    "    for j in range(0, len(space)):\n",
    "        dot = np.dot(sample, space[j].T)\n",
    "        dist = np.sum(np.sum(dot > SIM_THRESHOLD, axis=1) > 0) / max(sample.shape[0], space[j].shape[0])\n",
    "        projection.append(dist)\n",
    "    return projection"
   ]
  },
  {
   "cell_type": "markdown",
   "metadata": {},
   "source": [
    "### Do Cross Validation"
   ]
  },
  {
   "cell_type": "code",
   "execution_count": 8,
   "metadata": {},
   "outputs": [
    {
     "name": "stderr",
     "output_type": "stream",
     "text": [
      "  0%|          | 3/993 [00:00<01:00, 16.50it/s]"
     ]
    },
    {
     "name": "stdout",
     "output_type": "stream",
     "text": [
      "Val fold: 0\n",
      "Projection fold: 1 Train fold: {2, 3, 4}\n",
      "Projecting training data\n"
     ]
    },
    {
     "name": "stderr",
     "output_type": "stream",
     "text": [
      "100%|██████████| 993/993 [00:38<00:00, 25.73it/s]\n",
      "  2%|▏         | 5/332 [00:00<00:09, 35.34it/s]"
     ]
    },
    {
     "name": "stdout",
     "output_type": "stream",
     "text": [
      "Projecting validation data\n"
     ]
    },
    {
     "name": "stderr",
     "output_type": "stream",
     "text": [
      "100%|██████████| 332/332 [00:14<00:00, 23.01it/s]\n",
      "  0%|          | 0/1 [00:00<?, ?it/s]"
     ]
    },
    {
     "name": "stdout",
     "output_type": "stream",
     "text": [
      "Classification\n"
     ]
    },
    {
     "name": "stderr",
     "output_type": "stream",
     "text": [
      "100%|██████████| 1/1 [00:00<00:00,  3.33it/s]\n",
      "  0%|          | 3/993 [00:00<00:35, 27.81it/s]"
     ]
    },
    {
     "name": "stdout",
     "output_type": "stream",
     "text": [
      "Best C: 100, Best GAMMA: 0.1, Validation Accuracy 0.9216867469879518\n",
      "Projection fold: 2 Train fold: {1, 3, 4}\n",
      "Projecting training data\n"
     ]
    },
    {
     "name": "stderr",
     "output_type": "stream",
     "text": [
      "100%|██████████| 993/993 [00:42<00:00, 23.29it/s]\n",
      "  2%|▏         | 5/332 [00:00<00:08, 38.76it/s]"
     ]
    },
    {
     "name": "stdout",
     "output_type": "stream",
     "text": [
      "Projecting validation data\n"
     ]
    },
    {
     "name": "stderr",
     "output_type": "stream",
     "text": [
      "100%|██████████| 332/332 [00:12<00:00, 26.03it/s]\n",
      "  0%|          | 0/1 [00:00<?, ?it/s]"
     ]
    },
    {
     "name": "stdout",
     "output_type": "stream",
     "text": [
      "Classification\n"
     ]
    },
    {
     "name": "stderr",
     "output_type": "stream",
     "text": [
      "100%|██████████| 1/1 [00:00<00:00,  3.50it/s]\n",
      "  0%|          | 3/993 [00:00<00:37, 26.24it/s]"
     ]
    },
    {
     "name": "stdout",
     "output_type": "stream",
     "text": [
      "Best C: 100, Best GAMMA: 0.1, Validation Accuracy 0.9126506024096386\n",
      "Projection fold: 3 Train fold: {1, 2, 4}\n",
      "Projecting training data\n"
     ]
    },
    {
     "name": "stderr",
     "output_type": "stream",
     "text": [
      "100%|██████████| 993/993 [00:41<00:00, 23.87it/s]\n",
      "  2%|▏         | 5/332 [00:00<00:08, 36.34it/s]"
     ]
    },
    {
     "name": "stdout",
     "output_type": "stream",
     "text": [
      "Projecting validation data\n"
     ]
    },
    {
     "name": "stderr",
     "output_type": "stream",
     "text": [
      "100%|██████████| 332/332 [00:12<00:00, 27.62it/s]\n",
      "  0%|          | 0/1 [00:00<?, ?it/s]"
     ]
    },
    {
     "name": "stdout",
     "output_type": "stream",
     "text": [
      "Classification\n"
     ]
    },
    {
     "name": "stderr",
     "output_type": "stream",
     "text": [
      "100%|██████████| 1/1 [00:00<00:00,  3.40it/s]\n",
      "  0%|          | 3/993 [00:00<00:33, 29.51it/s]"
     ]
    },
    {
     "name": "stdout",
     "output_type": "stream",
     "text": [
      "Best C: 100, Best GAMMA: 0.1, Validation Accuracy 0.9006024096385542\n",
      "Projection fold: 4 Train fold: {1, 2, 3}\n",
      "Projecting training data\n"
     ]
    },
    {
     "name": "stderr",
     "output_type": "stream",
     "text": [
      "100%|██████████| 993/993 [00:37<00:00, 26.27it/s]\n",
      "  2%|▏         | 5/332 [00:00<00:08, 39.35it/s]"
     ]
    },
    {
     "name": "stdout",
     "output_type": "stream",
     "text": [
      "Projecting validation data\n"
     ]
    },
    {
     "name": "stderr",
     "output_type": "stream",
     "text": [
      "100%|██████████| 332/332 [00:11<00:00, 28.24it/s]\n",
      "  0%|          | 0/1 [00:00<?, ?it/s]"
     ]
    },
    {
     "name": "stdout",
     "output_type": "stream",
     "text": [
      "Classification\n"
     ]
    },
    {
     "name": "stderr",
     "output_type": "stream",
     "text": [
      "100%|██████████| 1/1 [00:00<00:00,  3.28it/s]\n",
      "  0%|          | 3/993 [00:00<00:54, 18.18it/s]"
     ]
    },
    {
     "name": "stdout",
     "output_type": "stream",
     "text": [
      "Best C: 100, Best GAMMA: 0.1, Validation Accuracy 0.8825301204819277\n",
      "Val fold: 1\n",
      "Projection fold: 0 Train fold: {2, 3, 4}\n",
      "Projecting training data\n"
     ]
    },
    {
     "name": "stderr",
     "output_type": "stream",
     "text": [
      "100%|██████████| 993/993 [00:39<00:00, 25.29it/s]\n",
      "  1%|          | 3/331 [00:00<00:12, 25.45it/s]"
     ]
    },
    {
     "name": "stdout",
     "output_type": "stream",
     "text": [
      "Projecting validation data\n"
     ]
    },
    {
     "name": "stderr",
     "output_type": "stream",
     "text": [
      "100%|██████████| 331/331 [00:13<00:00, 24.63it/s]\n",
      "  0%|          | 0/1 [00:00<?, ?it/s]"
     ]
    },
    {
     "name": "stdout",
     "output_type": "stream",
     "text": [
      "Classification\n"
     ]
    },
    {
     "name": "stderr",
     "output_type": "stream",
     "text": [
      "100%|██████████| 1/1 [00:00<00:00,  3.29it/s]\n",
      "  1%|          | 5/994 [00:00<00:26, 37.90it/s]"
     ]
    },
    {
     "name": "stdout",
     "output_type": "stream",
     "text": [
      "Best C: 100, Best GAMMA: 0.1, Validation Accuracy 0.8912386706948641\n",
      "Projection fold: 2 Train fold: {0, 3, 4}\n",
      "Projecting training data\n"
     ]
    },
    {
     "name": "stderr",
     "output_type": "stream",
     "text": [
      "100%|██████████| 994/994 [00:41<00:00, 24.04it/s]\n",
      "  1%|          | 3/331 [00:00<00:13, 24.74it/s]"
     ]
    },
    {
     "name": "stdout",
     "output_type": "stream",
     "text": [
      "Projecting validation data\n"
     ]
    },
    {
     "name": "stderr",
     "output_type": "stream",
     "text": [
      "100%|██████████| 331/331 [00:14<00:00, 22.29it/s]\n",
      "  0%|          | 0/1 [00:00<?, ?it/s]"
     ]
    },
    {
     "name": "stdout",
     "output_type": "stream",
     "text": [
      "Classification\n"
     ]
    },
    {
     "name": "stderr",
     "output_type": "stream",
     "text": [
      "100%|██████████| 1/1 [00:00<00:00,  3.19it/s]\n",
      "  1%|          | 5/994 [00:00<00:27, 36.18it/s]"
     ]
    },
    {
     "name": "stdout",
     "output_type": "stream",
     "text": [
      "Best C: 100, Best GAMMA: 0.1, Validation Accuracy 0.8972809667673716\n",
      "Projection fold: 3 Train fold: {0, 2, 4}\n",
      "Projecting training data\n"
     ]
    },
    {
     "name": "stderr",
     "output_type": "stream",
     "text": [
      "100%|██████████| 994/994 [00:40<00:00, 24.67it/s]\n",
      "  1%|          | 3/331 [00:00<00:12, 25.94it/s]"
     ]
    },
    {
     "name": "stdout",
     "output_type": "stream",
     "text": [
      "Projecting validation data\n"
     ]
    },
    {
     "name": "stderr",
     "output_type": "stream",
     "text": [
      "100%|██████████| 331/331 [00:15<00:00, 22.00it/s]\n",
      "  0%|          | 0/1 [00:00<?, ?it/s]"
     ]
    },
    {
     "name": "stdout",
     "output_type": "stream",
     "text": [
      "Classification\n"
     ]
    },
    {
     "name": "stderr",
     "output_type": "stream",
     "text": [
      "100%|██████████| 1/1 [00:00<00:00,  2.91it/s]\n",
      "  1%|          | 5/994 [00:00<00:29, 32.99it/s]"
     ]
    },
    {
     "name": "stdout",
     "output_type": "stream",
     "text": [
      "Best C: 100, Best GAMMA: 0.1, Validation Accuracy 0.8942598187311178\n",
      "Projection fold: 4 Train fold: {0, 2, 3}\n",
      "Projecting training data\n"
     ]
    },
    {
     "name": "stderr",
     "output_type": "stream",
     "text": [
      "100%|██████████| 994/994 [00:47<00:00, 20.80it/s]\n",
      "  1%|          | 3/331 [00:00<00:21, 15.57it/s]"
     ]
    },
    {
     "name": "stdout",
     "output_type": "stream",
     "text": [
      "Projecting validation data\n"
     ]
    },
    {
     "name": "stderr",
     "output_type": "stream",
     "text": [
      "100%|██████████| 331/331 [00:17<00:00, 18.47it/s]\n",
      "  0%|          | 0/1 [00:00<?, ?it/s]"
     ]
    },
    {
     "name": "stdout",
     "output_type": "stream",
     "text": [
      "Classification\n"
     ]
    },
    {
     "name": "stderr",
     "output_type": "stream",
     "text": [
      "100%|██████████| 1/1 [00:00<00:00,  2.56it/s]\n",
      "  0%|          | 3/993 [00:00<00:47, 20.89it/s]"
     ]
    },
    {
     "name": "stdout",
     "output_type": "stream",
     "text": [
      "Best C: 100, Best GAMMA: 0.1, Validation Accuracy 0.8761329305135952\n",
      "Val fold: 2\n",
      "Projection fold: 0 Train fold: {1, 3, 4}\n",
      "Projecting training data\n"
     ]
    },
    {
     "name": "stderr",
     "output_type": "stream",
     "text": [
      "100%|██████████| 993/993 [00:48<00:00, 20.63it/s]\n",
      "  0%|          | 0/331 [00:00<?, ?it/s]"
     ]
    },
    {
     "name": "stdout",
     "output_type": "stream",
     "text": [
      "Projecting validation data\n"
     ]
    },
    {
     "name": "stderr",
     "output_type": "stream",
     "text": [
      "100%|██████████| 331/331 [00:15<00:00, 20.94it/s]\n",
      "  0%|          | 0/1 [00:00<?, ?it/s]"
     ]
    },
    {
     "name": "stdout",
     "output_type": "stream",
     "text": [
      "Classification\n"
     ]
    },
    {
     "name": "stderr",
     "output_type": "stream",
     "text": [
      "100%|██████████| 1/1 [00:00<00:00,  2.78it/s]\n",
      "  1%|          | 5/994 [00:00<00:36, 27.11it/s]"
     ]
    },
    {
     "name": "stdout",
     "output_type": "stream",
     "text": [
      "Best C: 100, Best GAMMA: 0.1, Validation Accuracy 0.8882175226586103\n",
      "Projection fold: 1 Train fold: {0, 3, 4}\n",
      "Projecting training data\n"
     ]
    },
    {
     "name": "stderr",
     "output_type": "stream",
     "text": [
      "100%|██████████| 994/994 [00:49<00:00, 20.23it/s]\n",
      "  0%|          | 0/331 [00:00<?, ?it/s]"
     ]
    },
    {
     "name": "stdout",
     "output_type": "stream",
     "text": [
      "Projecting validation data\n"
     ]
    },
    {
     "name": "stderr",
     "output_type": "stream",
     "text": [
      "100%|██████████| 331/331 [00:18<00:00, 18.05it/s]\n",
      "  0%|          | 0/1 [00:00<?, ?it/s]"
     ]
    },
    {
     "name": "stdout",
     "output_type": "stream",
     "text": [
      "Classification\n"
     ]
    },
    {
     "name": "stderr",
     "output_type": "stream",
     "text": [
      "100%|██████████| 1/1 [00:00<00:00,  2.76it/s]\n",
      "  1%|          | 5/994 [00:00<00:32, 30.66it/s]"
     ]
    },
    {
     "name": "stdout",
     "output_type": "stream",
     "text": [
      "Best C: 100, Best GAMMA: 0.1, Validation Accuracy 0.8851963746223565\n",
      "Projection fold: 3 Train fold: {0, 1, 4}\n",
      "Projecting training data\n"
     ]
    },
    {
     "name": "stderr",
     "output_type": "stream",
     "text": [
      "100%|██████████| 994/994 [00:47<00:00, 20.82it/s]\n",
      "  0%|          | 0/331 [00:00<?, ?it/s]"
     ]
    },
    {
     "name": "stdout",
     "output_type": "stream",
     "text": [
      "Projecting validation data\n"
     ]
    },
    {
     "name": "stderr",
     "output_type": "stream",
     "text": [
      "100%|██████████| 331/331 [00:19<00:00, 17.15it/s]\n",
      "  0%|          | 0/1 [00:00<?, ?it/s]"
     ]
    },
    {
     "name": "stdout",
     "output_type": "stream",
     "text": [
      "Classification\n"
     ]
    },
    {
     "name": "stderr",
     "output_type": "stream",
     "text": [
      "100%|██████████| 1/1 [00:00<00:00,  2.27it/s]\n",
      "  0%|          | 4/994 [00:00<00:27, 35.69it/s]"
     ]
    },
    {
     "name": "stdout",
     "output_type": "stream",
     "text": [
      "Best C: 100, Best GAMMA: 0.1, Validation Accuracy 0.8761329305135952\n",
      "Projection fold: 4 Train fold: {0, 1, 3}\n",
      "Projecting training data\n"
     ]
    },
    {
     "name": "stderr",
     "output_type": "stream",
     "text": [
      "100%|██████████| 994/994 [00:47<00:00, 21.07it/s]\n",
      "  0%|          | 0/331 [00:00<?, ?it/s]"
     ]
    },
    {
     "name": "stdout",
     "output_type": "stream",
     "text": [
      "Projecting validation data\n"
     ]
    },
    {
     "name": "stderr",
     "output_type": "stream",
     "text": [
      "100%|██████████| 331/331 [00:16<00:00, 20.45it/s]\n",
      "  0%|          | 0/1 [00:00<?, ?it/s]"
     ]
    },
    {
     "name": "stdout",
     "output_type": "stream",
     "text": [
      "Classification\n"
     ]
    },
    {
     "name": "stderr",
     "output_type": "stream",
     "text": [
      "100%|██████████| 1/1 [00:00<00:00,  2.55it/s]\n",
      "  0%|          | 3/993 [00:00<00:47, 21.04it/s]"
     ]
    },
    {
     "name": "stdout",
     "output_type": "stream",
     "text": [
      "Best C: 100, Best GAMMA: 0.1, Validation Accuracy 0.8761329305135952\n",
      "Val fold: 3\n",
      "Projection fold: 0 Train fold: {1, 2, 4}\n",
      "Projecting training data\n"
     ]
    },
    {
     "name": "stderr",
     "output_type": "stream",
     "text": [
      "100%|██████████| 993/993 [00:46<00:00, 21.22it/s]\n",
      "  1%|          | 4/331 [00:00<00:11, 27.93it/s]"
     ]
    },
    {
     "name": "stdout",
     "output_type": "stream",
     "text": [
      "Projecting validation data\n"
     ]
    },
    {
     "name": "stderr",
     "output_type": "stream",
     "text": [
      "100%|██████████| 331/331 [00:17<00:00, 19.41it/s]\n",
      "  0%|          | 0/1 [00:00<?, ?it/s]"
     ]
    },
    {
     "name": "stdout",
     "output_type": "stream",
     "text": [
      "Classification\n"
     ]
    },
    {
     "name": "stderr",
     "output_type": "stream",
     "text": [
      "100%|██████████| 1/1 [00:00<00:00,  2.60it/s]\n",
      "  1%|          | 5/994 [00:00<00:36, 27.40it/s]"
     ]
    },
    {
     "name": "stdout",
     "output_type": "stream",
     "text": [
      "Best C: 100, Best GAMMA: 0.1, Validation Accuracy 0.8912386706948641\n",
      "Projection fold: 1 Train fold: {0, 2, 4}\n",
      "Projecting training data\n"
     ]
    },
    {
     "name": "stderr",
     "output_type": "stream",
     "text": [
      "100%|██████████| 994/994 [00:53<00:00, 18.69it/s]\n",
      "  1%|          | 4/331 [00:00<00:12, 26.45it/s]"
     ]
    },
    {
     "name": "stdout",
     "output_type": "stream",
     "text": [
      "Projecting validation data\n"
     ]
    },
    {
     "name": "stderr",
     "output_type": "stream",
     "text": [
      "100%|██████████| 331/331 [00:14<00:00, 22.52it/s]\n",
      "  0%|          | 0/1 [00:00<?, ?it/s]"
     ]
    },
    {
     "name": "stdout",
     "output_type": "stream",
     "text": [
      "Classification\n"
     ]
    },
    {
     "name": "stderr",
     "output_type": "stream",
     "text": [
      "100%|██████████| 1/1 [00:00<00:00,  3.03it/s]\n",
      "  1%|          | 5/994 [00:00<00:32, 30.57it/s]"
     ]
    },
    {
     "name": "stdout",
     "output_type": "stream",
     "text": [
      "Best C: 100, Best GAMMA: 0.1, Validation Accuracy 0.9063444108761329\n",
      "Projection fold: 2 Train fold: {0, 1, 4}\n",
      "Projecting training data\n"
     ]
    },
    {
     "name": "stderr",
     "output_type": "stream",
     "text": [
      "100%|██████████| 994/994 [00:47<00:00, 20.90it/s]\n",
      "  1%|          | 3/331 [00:00<00:12, 27.20it/s]"
     ]
    },
    {
     "name": "stdout",
     "output_type": "stream",
     "text": [
      "Projecting validation data\n"
     ]
    },
    {
     "name": "stderr",
     "output_type": "stream",
     "text": [
      "100%|██████████| 331/331 [00:19<00:00, 16.97it/s]\n",
      "  0%|          | 0/1 [00:00<?, ?it/s]"
     ]
    },
    {
     "name": "stdout",
     "output_type": "stream",
     "text": [
      "Classification\n"
     ]
    },
    {
     "name": "stderr",
     "output_type": "stream",
     "text": [
      "100%|██████████| 1/1 [00:00<00:00,  2.40it/s]\n",
      "  0%|          | 4/994 [00:00<00:25, 39.23it/s]"
     ]
    },
    {
     "name": "stdout",
     "output_type": "stream",
     "text": [
      "Best C: 100, Best GAMMA: 0.1, Validation Accuracy 0.8942598187311178\n",
      "Projection fold: 4 Train fold: {0, 1, 2}\n",
      "Projecting training data\n"
     ]
    },
    {
     "name": "stderr",
     "output_type": "stream",
     "text": [
      "100%|██████████| 994/994 [01:05<00:00, 15.23it/s]\n",
      "  1%|          | 3/331 [00:00<00:11, 29.40it/s]"
     ]
    },
    {
     "name": "stdout",
     "output_type": "stream",
     "text": [
      "Projecting validation data\n"
     ]
    },
    {
     "name": "stderr",
     "output_type": "stream",
     "text": [
      "100%|██████████| 331/331 [00:14<00:00, 22.24it/s]\n",
      "  0%|          | 0/1 [00:00<?, ?it/s]"
     ]
    },
    {
     "name": "stdout",
     "output_type": "stream",
     "text": [
      "Classification\n"
     ]
    },
    {
     "name": "stderr",
     "output_type": "stream",
     "text": [
      "100%|██████████| 1/1 [00:00<00:00,  2.74it/s]\n",
      "  0%|          | 3/993 [00:00<00:42, 23.29it/s]"
     ]
    },
    {
     "name": "stdout",
     "output_type": "stream",
     "text": [
      "Best C: 100, Best GAMMA: 0.1, Validation Accuracy 0.8821752265861027\n",
      "Val fold: 4\n",
      "Projection fold: 0 Train fold: {1, 2, 3}\n",
      "Projecting training data\n"
     ]
    },
    {
     "name": "stderr",
     "output_type": "stream",
     "text": [
      "100%|██████████| 993/993 [00:44<00:00, 22.07it/s]\n",
      "  2%|▏         | 5/331 [00:00<00:07, 42.65it/s]"
     ]
    },
    {
     "name": "stdout",
     "output_type": "stream",
     "text": [
      "Projecting validation data\n"
     ]
    },
    {
     "name": "stderr",
     "output_type": "stream",
     "text": [
      "100%|██████████| 331/331 [00:14<00:00, 23.23it/s]\n",
      "  0%|          | 0/1 [00:00<?, ?it/s]"
     ]
    },
    {
     "name": "stdout",
     "output_type": "stream",
     "text": [
      "Classification\n"
     ]
    },
    {
     "name": "stderr",
     "output_type": "stream",
     "text": [
      "100%|██████████| 1/1 [00:00<00:00,  2.92it/s]\n",
      "  1%|          | 5/994 [00:00<00:33, 29.90it/s]"
     ]
    },
    {
     "name": "stdout",
     "output_type": "stream",
     "text": [
      "Best C: 100, Best GAMMA: 0.1, Validation Accuracy 0.8882175226586103\n",
      "Projection fold: 1 Train fold: {0, 2, 3}\n",
      "Projecting training data\n"
     ]
    },
    {
     "name": "stderr",
     "output_type": "stream",
     "text": [
      "100%|██████████| 994/994 [00:48<00:00, 20.57it/s]\n",
      "  2%|▏         | 5/331 [00:00<00:07, 41.63it/s]"
     ]
    },
    {
     "name": "stdout",
     "output_type": "stream",
     "text": [
      "Projecting validation data\n"
     ]
    },
    {
     "name": "stderr",
     "output_type": "stream",
     "text": [
      "100%|██████████| 331/331 [00:15<00:00, 21.55it/s]\n",
      "  0%|          | 0/1 [00:00<?, ?it/s]"
     ]
    },
    {
     "name": "stdout",
     "output_type": "stream",
     "text": [
      "Classification\n"
     ]
    },
    {
     "name": "stderr",
     "output_type": "stream",
     "text": [
      "100%|██████████| 1/1 [00:00<00:00,  2.97it/s]\n",
      "  1%|          | 5/994 [00:00<00:30, 32.90it/s]"
     ]
    },
    {
     "name": "stdout",
     "output_type": "stream",
     "text": [
      "Best C: 100, Best GAMMA: 0.1, Validation Accuracy 0.9063444108761329\n",
      "Projection fold: 2 Train fold: {0, 1, 3}\n",
      "Projecting training data\n"
     ]
    },
    {
     "name": "stderr",
     "output_type": "stream",
     "text": [
      "100%|██████████| 994/994 [00:46<00:00, 21.18it/s]\n",
      "  1%|          | 4/331 [00:00<00:10, 32.65it/s]"
     ]
    },
    {
     "name": "stdout",
     "output_type": "stream",
     "text": [
      "Projecting validation data\n"
     ]
    },
    {
     "name": "stderr",
     "output_type": "stream",
     "text": [
      "100%|██████████| 331/331 [00:17<00:00, 19.38it/s]\n",
      "  0%|          | 0/1 [00:00<?, ?it/s]"
     ]
    },
    {
     "name": "stdout",
     "output_type": "stream",
     "text": [
      "Classification\n"
     ]
    },
    {
     "name": "stderr",
     "output_type": "stream",
     "text": [
      "100%|██████████| 1/1 [00:00<00:00,  2.53it/s]\n",
      "  1%|          | 5/994 [00:00<00:34, 28.74it/s]"
     ]
    },
    {
     "name": "stdout",
     "output_type": "stream",
     "text": [
      "Best C: 100, Best GAMMA: 0.1, Validation Accuracy 0.9003021148036254\n",
      "Projection fold: 3 Train fold: {0, 1, 2}\n",
      "Projecting training data\n"
     ]
    },
    {
     "name": "stderr",
     "output_type": "stream",
     "text": [
      "100%|██████████| 994/994 [00:49<00:00, 20.23it/s]\n",
      "  2%|▏         | 5/331 [00:00<00:07, 41.22it/s]"
     ]
    },
    {
     "name": "stdout",
     "output_type": "stream",
     "text": [
      "Projecting validation data\n"
     ]
    },
    {
     "name": "stderr",
     "output_type": "stream",
     "text": [
      "100%|██████████| 331/331 [00:14<00:00, 22.44it/s]\n",
      "  0%|          | 0/1 [00:00<?, ?it/s]"
     ]
    },
    {
     "name": "stdout",
     "output_type": "stream",
     "text": [
      "Classification\n"
     ]
    },
    {
     "name": "stderr",
     "output_type": "stream",
     "text": [
      "100%|██████████| 1/1 [00:00<00:00,  2.78it/s]"
     ]
    },
    {
     "name": "stdout",
     "output_type": "stream",
     "text": [
      "Best C: 100, Best GAMMA: 0.1, Validation Accuracy 0.9063444108761329\n"
     ]
    },
    {
     "name": "stderr",
     "output_type": "stream",
     "text": [
      "\n"
     ]
    }
   ],
   "source": [
    "C = [100]\n",
    "gamma = [0.1]\n",
    "\n",
    "result = []\n",
    "for i in range(0, 5):\n",
    "    print(\"Val fold: {}\".format(i))\n",
    "    val_emb = [embeddings[f] for f in fold[i]]\n",
    "    val_apt = [apt[f] for f in fold[i]]\n",
    "    for j in range(0, 5):\n",
    "        if i == j:\n",
    "            continue\n",
    "        projection_emb = [embeddings[f] for f in fold[j]]\n",
    "        train_fold = set(range(0,5)).difference(set([i,j]))\n",
    "        train_emb = []\n",
    "        train_apt = []\n",
    "        for ff in train_fold:\n",
    "            train_emb.extend([embeddings[f] for f in fold[ff]])\n",
    "            train_apt.extend([apt[f] for f in fold[ff]])\n",
    "        print(\"Projection fold: {} Train fold: {}\".format(j, train_fold))\n",
    "        print(\"Projecting training data\")\n",
    "        train_data = []\n",
    "        for k in tqdm(range(0, len(train_emb))):\n",
    "            train_data.append(project(train_emb[k], projection_emb))\n",
    "            \n",
    "        print(\"Projecting validation data\")\n",
    "        val_data = []\n",
    "        for k in tqdm(range(0, len(val_emb))):\n",
    "            val_data.append(project(val_emb[k], projection_emb))\n",
    "\n",
    "        max_acc = 0\n",
    "        best_c = None\n",
    "        best_gamma = None\n",
    "\n",
    "        print(\"Classification\")\n",
    "        for c in tqdm(C):\n",
    "            for g in gamma:\n",
    "                clf = SVC(C=c, gamma=g, kernel=\"rbf\")\n",
    "                clf.fit(train_data, train_apt)\n",
    "                predictions = clf.predict(val_data)\n",
    "                acc = metrics.accuracy_score(val_apt, predictions)\n",
    "                if acc > max_acc:\n",
    "                    best_c = c\n",
    "                    best_gamma = g\n",
    "                    best_predictions = predictions\n",
    "                    max_acc = acc\n",
    "                    \n",
    "        print(\"Best C: {}, Best GAMMA: {}, Validation Accuracy {}\".format(best_c, best_gamma, max_acc))\n",
    "        \n",
    "        obj = {\n",
    "            \"val_fold\":i,\n",
    "            \"projection_fold\":j,\n",
    "            \"train_fold\":train_fold,\n",
    "            \"C\":best_c,\n",
    "            \"gamma\": best_gamma,\n",
    "            \"accuracy\": max_acc,\n",
    "            \"predictions\":best_predictions,\n",
    "            \"label\":val_apt\n",
    "        }\n",
    "        \n",
    "        result.append(obj)\n"
   ]
  },
  {
   "cell_type": "markdown",
   "metadata": {},
   "source": [
    "### Saving result"
   ]
  },
  {
   "cell_type": "code",
   "execution_count": 9,
   "metadata": {},
   "outputs": [],
   "source": [
    "import pickle\n",
    "f = open('result_cross_val_svm.pkl','wb')\n",
    "pickle.dump(result, f)\n",
    "f.close()"
   ]
  },
  {
   "cell_type": "markdown",
   "metadata": {},
   "source": [
    "### Print Confusion Matrix"
   ]
  },
  {
   "cell_type": "code",
   "execution_count": 10,
   "metadata": {},
   "outputs": [],
   "source": [
    "actual_val_fold = i\n",
    "cum_report = None\n",
    "cnf = np.zeros([len(set(result[0]['label'])),len(set(result[0]['label']))])\n",
    "labels = list(set(result[0]['label']))\n",
    "for r in result:\n",
    "    report = metrics.classification_report(r['predictions'], r['label'], output_dict=True)\n",
    "    cnf = (cnf + metrics.confusion_matrix(r['predictions'], r['label'], labels=labels)) / 2\n",
    "    if cum_report == None:\n",
    "        cum_report = report\n",
    "    else:\n",
    "        for k in report.keys():\n",
    "            if k != 'accuracy':\n",
    "                cum_report[k]['precision'] = (cum_report[k]['precision'] + report[k]['precision']) / 2\n",
    "                cum_report[k]['recall'] = (cum_report[k]['recall'] + report[k]['recall']) / 2\n",
    "                cum_report[k]['f1-score'] = (cum_report[k]['f1-score'] + report[k]['f1-score']) / 2\n",
    "                cum_report[k]['support'] = (cum_report[k]['support'] + report[k]['support']) / 2\n",
    "            else:\n",
    "                cum_report[k] = (cum_report[k] + report[k]) / 2"
   ]
  },
  {
   "cell_type": "code",
   "execution_count": 11,
   "metadata": {},
   "outputs": [],
   "source": [
    "import pandas as pd\n",
    "import seaborn as sns\n",
    "import matplotlib.pyplot as plt"
   ]
  },
  {
   "cell_type": "code",
   "execution_count": 12,
   "metadata": {},
   "outputs": [],
   "source": [
    "labels[4] = 'Sandworm'"
   ]
  },
  {
   "cell_type": "code",
   "execution_count": 13,
   "metadata": {},
   "outputs": [
    {
     "data": {
      "image/png": "[encoded data removed]",
      "text/plain": [
       "<Figure size 720x720 with 2 Axes>"
      ]
     },
     "metadata": {
      "needs_background": "light"
     },
     "output_type": "display_data"
    }
   ],
   "source": [
    "df_cm = pd.DataFrame(cnf, index=labels, columns=labels)\n",
    "df_cm = df_cm.div(df_cm.sum(axis=1), axis=0)\n",
    "fig = plt.figure(figsize=(10,10))\n",
    "heatmap = sns.heatmap(df_cm, annot=True, fmt=\".2f\", square=True, cmap = sns.cm.rocket_r)\n",
    "plt.savefig(\"confusion_matrix_cross_val_svm.png\")"
   ]
  },
  {
   "cell_type": "code",
   "execution_count": 14,
   "metadata": {},
   "outputs": [],
   "source": [
    "report = pd.DataFrame(cum_report).T.round(3)"
   ]
  },
  {
   "cell_type": "code",
   "execution_count": 15,
   "metadata": {},
   "outputs": [
    {
     "data": {
      "text/html": [
       "<div>\n",
       "<style scoped>\n",
       "    .dataframe tbody tr th:only-of-type {\n",
       "        vertical-align: middle;\n",
       "    }\n",
       "\n",
       "    .dataframe tbody tr th {\n",
       "        vertical-align: top;\n",
       "    }\n",
       "\n",
       "    .dataframe thead th {\n",
       "        text-align: right;\n",
       "    }\n",
       "</style>\n",
       "<table border=\"1\" class=\"dataframe\">\n",
       "  <thead>\n",
       "    <tr style=\"text-align: right;\">\n",
       "      <th></th>\n",
       "      <th>precision</th>\n",
       "      <th>recall</th>\n",
       "      <th>f1-score</th>\n",
       "      <th>support</th>\n",
       "    </tr>\n",
       "  </thead>\n",
       "  <tbody>\n",
       "    <tr>\n",
       "      <th>APT28</th>\n",
       "      <td>0.760</td>\n",
       "      <td>0.974</td>\n",
       "      <td>0.853</td>\n",
       "      <td>10.163</td>\n",
       "    </tr>\n",
       "    <tr>\n",
       "      <th>APT29</th>\n",
       "      <td>0.945</td>\n",
       "      <td>0.897</td>\n",
       "      <td>0.919</td>\n",
       "      <td>29.644</td>\n",
       "    </tr>\n",
       "    <tr>\n",
       "      <th>APT30</th>\n",
       "      <td>0.941</td>\n",
       "      <td>0.966</td>\n",
       "      <td>0.953</td>\n",
       "      <td>16.568</td>\n",
       "    </tr>\n",
       "    <tr>\n",
       "      <th>Carbanak</th>\n",
       "      <td>0.550</td>\n",
       "      <td>0.836</td>\n",
       "      <td>0.660</td>\n",
       "      <td>9.237</td>\n",
       "    </tr>\n",
       "    <tr>\n",
       "      <th>Desert Falcon</th>\n",
       "      <td>0.561</td>\n",
       "      <td>0.934</td>\n",
       "      <td>0.692</td>\n",
       "      <td>4.893</td>\n",
       "    </tr>\n",
       "    <tr>\n",
       "      <th>Hurricane Panda</th>\n",
       "      <td>0.978</td>\n",
       "      <td>0.982</td>\n",
       "      <td>0.980</td>\n",
       "      <td>61.781</td>\n",
       "    </tr>\n",
       "    <tr>\n",
       "      <th>Lazarus Group</th>\n",
       "      <td>0.677</td>\n",
       "      <td>0.838</td>\n",
       "      <td>0.739</td>\n",
       "      <td>8.950</td>\n",
       "    </tr>\n",
       "    <tr>\n",
       "      <th>Mirage</th>\n",
       "      <td>0.794</td>\n",
       "      <td>0.932</td>\n",
       "      <td>0.855</td>\n",
       "      <td>8.555</td>\n",
       "    </tr>\n",
       "    <tr>\n",
       "      <th>Patchwork</th>\n",
       "      <td>0.967</td>\n",
       "      <td>0.934</td>\n",
       "      <td>0.950</td>\n",
       "      <td>98.538</td>\n",
       "    </tr>\n",
       "    <tr>\n",
       "      <th>Sandwork</th>\n",
       "      <td>0.883</td>\n",
       "      <td>0.378</td>\n",
       "      <td>0.529</td>\n",
       "      <td>18.803</td>\n",
       "    </tr>\n",
       "    <tr>\n",
       "      <th>Shiqiang</th>\n",
       "      <td>0.999</td>\n",
       "      <td>0.985</td>\n",
       "      <td>0.991</td>\n",
       "      <td>6.036</td>\n",
       "    </tr>\n",
       "    <tr>\n",
       "      <th>Transparent Tribe</th>\n",
       "      <td>0.897</td>\n",
       "      <td>0.876</td>\n",
       "      <td>0.884</td>\n",
       "      <td>11.391</td>\n",
       "    </tr>\n",
       "    <tr>\n",
       "      <th>Violin Panda</th>\n",
       "      <td>0.664</td>\n",
       "      <td>0.724</td>\n",
       "      <td>0.686</td>\n",
       "      <td>4.644</td>\n",
       "    </tr>\n",
       "    <tr>\n",
       "      <th>Volatile Cedar</th>\n",
       "      <td>0.924</td>\n",
       "      <td>1.000</td>\n",
       "      <td>0.957</td>\n",
       "      <td>6.472</td>\n",
       "    </tr>\n",
       "    <tr>\n",
       "      <th>Winnti Group</th>\n",
       "      <td>0.932</td>\n",
       "      <td>0.949</td>\n",
       "      <td>0.940</td>\n",
       "      <td>35.325</td>\n",
       "    </tr>\n",
       "    <tr>\n",
       "      <th>accuracy</th>\n",
       "      <td>0.903</td>\n",
       "      <td>0.903</td>\n",
       "      <td>0.903</td>\n",
       "      <td>0.903</td>\n",
       "    </tr>\n",
       "    <tr>\n",
       "      <th>macro avg</th>\n",
       "      <td>0.831</td>\n",
       "      <td>0.880</td>\n",
       "      <td>0.839</td>\n",
       "      <td>331.000</td>\n",
       "    </tr>\n",
       "    <tr>\n",
       "      <th>weighted avg</th>\n",
       "      <td>0.917</td>\n",
       "      <td>0.903</td>\n",
       "      <td>0.901</td>\n",
       "      <td>331.000</td>\n",
       "    </tr>\n",
       "  </tbody>\n",
       "</table>\n",
       "</div>"
      ],
      "text/plain": [
       "                   precision  recall  f1-score  support\n",
       "APT28                  0.760   0.974     0.853   10.163\n",
       "APT29                  0.945   0.897     0.919   29.644\n",
       "APT30                  0.941   0.966     0.953   16.568\n",
       "Carbanak               0.550   0.836     0.660    9.237\n",
       "Desert Falcon          0.561   0.934     0.692    4.893\n",
       "Hurricane Panda        0.978   0.982     0.980   61.781\n",
       "Lazarus Group          0.677   0.838     0.739    8.950\n",
       "Mirage                 0.794   0.932     0.855    8.555\n",
       "Patchwork              0.967   0.934     0.950   98.538\n",
       "Sandwork               0.883   0.378     0.529   18.803\n",
       "Shiqiang               0.999   0.985     0.991    6.036\n",
       "Transparent Tribe      0.897   0.876     0.884   11.391\n",
       "Violin Panda           0.664   0.724     0.686    4.644\n",
       "Volatile Cedar         0.924   1.000     0.957    6.472\n",
       "Winnti Group           0.932   0.949     0.940   35.325\n",
       "accuracy               0.903   0.903     0.903    0.903\n",
       "macro avg              0.831   0.880     0.839  331.000\n",
       "weighted avg           0.917   0.903     0.901  331.000"
      ]
     },
     "execution_count": 15,
     "metadata": {},
     "output_type": "execute_result"
    }
   ],
   "source": [
    "report"
   ]
  },
  {
   "cell_type": "code",
   "execution_count": 16,
   "metadata": {},
   "outputs": [],
   "source": [
    "f = open(\"classification_result_svm_cross_val.tex\",\"w\")\n",
    "f.write(report.to_latex())\n",
    "f.close()"
   ]
  },
  {
   "cell_type": "code",
   "execution_count": null,
   "metadata": {},
   "outputs": [],
   "source": []
  }
 ],
 "metadata": {
  "kernelspec": {
   "display_name": "Python 3",
   "language": "python",
   "name": "python3"
  },
  "language_info": {
   "codemirror_mode": {
    "name": "ipython",
    "version": 3
   },
   "file_extension": ".py",
   "mimetype": "text/x-python",
   "name": "python",
   "nbconvert_exporter": "python",
   "pygments_lexer": "ipython3",
   "version": "3.7.4"
  }
 },
 "nbformat": 4,
 "nbformat_minor": 4
}
