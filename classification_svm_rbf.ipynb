{
 "cells": [
  {
   "cell_type": "code",
   "execution_count": 1,
   "metadata": {},
   "outputs": [],
   "source": [
    "import pickle\n",
    "import os\n",
    "import numpy as np\n",
    "from tqdm import tqdm\n",
    "from sklearn import model_selection\n",
    "from sklearn import decomposition\n",
    "import networkx as nx\n",
    "from networkx.readwrite import write_gexf\n",
    "from sklearn.svm import SVC\n",
    "from sklearn import metrics\n",
    "from sklearn.model_selection import StratifiedKFold\n",
    "from downloader import Downloader"
   ]
  },
  {
   "cell_type": "markdown",
   "metadata": {},
   "source": [
    "### Download APT Data"
   ]
  },
  {
   "cell_type": "code",
   "execution_count": 2,
   "metadata": {},
   "outputs": [
    {
     "name": "stdout",
     "output_type": "stream",
     "text": [
      "Making the godown.pl script executable, thanks:https://github.com/circulosmeos/gdown.pl\n"
     ]
    },
    {
     "ename": "FileNotFoundError",
     "evalue": "[WinError 2] Impossibile trovare il file specificato",
     "output_type": "error",
     "traceback": [
      "\u001b[1;31m---------------------------------------------------------------------------\u001b[0m",
      "\u001b[1;31mFileNotFoundError\u001b[0m                         Traceback (most recent call last)",
      "\u001b[1;32m<ipython-input-2-8914424cef5c>\u001b[0m in \u001b[0;36m<module>\u001b[1;34m\u001b[0m\n\u001b[0;32m      1\u001b[0m \u001b[0md\u001b[0m\u001b[1;33m=\u001b[0m\u001b[0mDownloader\u001b[0m\u001b[1;33m(\u001b[0m\u001b[1;33m)\u001b[0m\u001b[1;33m\u001b[0m\u001b[1;33m\u001b[0m\u001b[0m\n\u001b[1;32m----> 2\u001b[1;33m \u001b[0md\u001b[0m\u001b[1;33m.\u001b[0m\u001b[0mdownload\u001b[0m\u001b[1;33m(\u001b[0m\u001b[1;33m)\u001b[0m\u001b[1;33m\u001b[0m\u001b[1;33m\u001b[0m\u001b[0m\n\u001b[0m",
      "\u001b[1;32m~\\PycharmProjects\\safe_apt_classification\\downloader.py\u001b[0m in \u001b[0;36mdownload\u001b[1;34m(self)\u001b[0m\n\u001b[0;32m     36\u001b[0m     \u001b[1;32mdef\u001b[0m \u001b[0mdownload\u001b[0m\u001b[1;33m(\u001b[0m\u001b[0mself\u001b[0m\u001b[1;33m)\u001b[0m\u001b[1;33m:\u001b[0m\u001b[1;33m\u001b[0m\u001b[1;33m\u001b[0m\u001b[0m\n\u001b[0;32m     37\u001b[0m         \u001b[0mprint\u001b[0m\u001b[1;33m(\u001b[0m\u001b[1;34m'Making the godown.pl script executable, thanks:'\u001b[0m\u001b[1;33m+\u001b[0m\u001b[0mstr\u001b[0m\u001b[1;33m(\u001b[0m\u001b[1;34m'https://github.com/circulosmeos/gdown.pl'\u001b[0m\u001b[1;33m)\u001b[0m\u001b[1;33m)\u001b[0m\u001b[1;33m\u001b[0m\u001b[1;33m\u001b[0m\u001b[0m\n\u001b[1;32m---> 38\u001b[1;33m         \u001b[0mcall\u001b[0m\u001b[1;33m(\u001b[0m\u001b[1;33m[\u001b[0m\u001b[1;34m'chmod'\u001b[0m\u001b[1;33m,\u001b[0m \u001b[1;34m'+x'\u001b[0m\u001b[1;33m,\u001b[0m\u001b[1;34m'godown.pl'\u001b[0m\u001b[1;33m]\u001b[0m\u001b[1;33m)\u001b[0m\u001b[1;33m\u001b[0m\u001b[1;33m\u001b[0m\u001b[0m\n\u001b[0m\u001b[0;32m     39\u001b[0m         \u001b[0mprint\u001b[0m\u001b[1;33m(\u001b[0m\u001b[1;34m\"SAFE --- downloading models\"\u001b[0m\u001b[1;33m)\u001b[0m\u001b[1;33m\u001b[0m\u001b[1;33m\u001b[0m\u001b[0m\n\u001b[0;32m     40\u001b[0m \u001b[1;33m\u001b[0m\u001b[0m\n",
      "\u001b[1;32mc:\\users\\luca\\anaconda3\\envs\\safe\\lib\\subprocess.py\u001b[0m in \u001b[0;36mcall\u001b[1;34m(timeout, *popenargs, **kwargs)\u001b[0m\n\u001b[0;32m    285\u001b[0m     \u001b[0mretcode\u001b[0m \u001b[1;33m=\u001b[0m \u001b[0mcall\u001b[0m\u001b[1;33m(\u001b[0m\u001b[1;33m[\u001b[0m\u001b[1;34m\"ls\"\u001b[0m\u001b[1;33m,\u001b[0m \u001b[1;34m\"-l\"\u001b[0m\u001b[1;33m]\u001b[0m\u001b[1;33m)\u001b[0m\u001b[1;33m\u001b[0m\u001b[1;33m\u001b[0m\u001b[0m\n\u001b[0;32m    286\u001b[0m     \"\"\"\n\u001b[1;32m--> 287\u001b[1;33m     \u001b[1;32mwith\u001b[0m \u001b[0mPopen\u001b[0m\u001b[1;33m(\u001b[0m\u001b[1;33m*\u001b[0m\u001b[0mpopenargs\u001b[0m\u001b[1;33m,\u001b[0m \u001b[1;33m**\u001b[0m\u001b[0mkwargs\u001b[0m\u001b[1;33m)\u001b[0m \u001b[1;32mas\u001b[0m \u001b[0mp\u001b[0m\u001b[1;33m:\u001b[0m\u001b[1;33m\u001b[0m\u001b[1;33m\u001b[0m\u001b[0m\n\u001b[0m\u001b[0;32m    288\u001b[0m         \u001b[1;32mtry\u001b[0m\u001b[1;33m:\u001b[0m\u001b[1;33m\u001b[0m\u001b[1;33m\u001b[0m\u001b[0m\n\u001b[0;32m    289\u001b[0m             \u001b[1;32mreturn\u001b[0m \u001b[0mp\u001b[0m\u001b[1;33m.\u001b[0m\u001b[0mwait\u001b[0m\u001b[1;33m(\u001b[0m\u001b[0mtimeout\u001b[0m\u001b[1;33m=\u001b[0m\u001b[0mtimeout\u001b[0m\u001b[1;33m)\u001b[0m\u001b[1;33m\u001b[0m\u001b[1;33m\u001b[0m\u001b[0m\n",
      "\u001b[1;32mc:\\users\\luca\\anaconda3\\envs\\safe\\lib\\subprocess.py\u001b[0m in \u001b[0;36m__init__\u001b[1;34m(self, args, bufsize, executable, stdin, stdout, stderr, preexec_fn, close_fds, shell, cwd, env, universal_newlines, startupinfo, creationflags, restore_signals, start_new_session, pass_fds, encoding, errors)\u001b[0m\n\u001b[0;32m    727\u001b[0m                                 \u001b[0mc2pread\u001b[0m\u001b[1;33m,\u001b[0m \u001b[0mc2pwrite\u001b[0m\u001b[1;33m,\u001b[0m\u001b[1;33m\u001b[0m\u001b[1;33m\u001b[0m\u001b[0m\n\u001b[0;32m    728\u001b[0m                                 \u001b[0merrread\u001b[0m\u001b[1;33m,\u001b[0m \u001b[0merrwrite\u001b[0m\u001b[1;33m,\u001b[0m\u001b[1;33m\u001b[0m\u001b[1;33m\u001b[0m\u001b[0m\n\u001b[1;32m--> 729\u001b[1;33m                                 restore_signals, start_new_session)\n\u001b[0m\u001b[0;32m    730\u001b[0m         \u001b[1;32mexcept\u001b[0m\u001b[1;33m:\u001b[0m\u001b[1;33m\u001b[0m\u001b[1;33m\u001b[0m\u001b[0m\n\u001b[0;32m    731\u001b[0m             \u001b[1;31m# Cleanup if the child failed starting.\u001b[0m\u001b[1;33m\u001b[0m\u001b[1;33m\u001b[0m\u001b[1;33m\u001b[0m\u001b[0m\n",
      "\u001b[1;32mc:\\users\\luca\\anaconda3\\envs\\safe\\lib\\subprocess.py\u001b[0m in \u001b[0;36m_execute_child\u001b[1;34m(self, args, executable, preexec_fn, close_fds, pass_fds, cwd, env, startupinfo, creationflags, shell, p2cread, p2cwrite, c2pread, c2pwrite, errread, errwrite, unused_restore_signals, unused_start_new_session)\u001b[0m\n\u001b[0;32m   1015\u001b[0m                                          \u001b[0menv\u001b[0m\u001b[1;33m,\u001b[0m\u001b[1;33m\u001b[0m\u001b[1;33m\u001b[0m\u001b[0m\n\u001b[0;32m   1016\u001b[0m                                          \u001b[0mos\u001b[0m\u001b[1;33m.\u001b[0m\u001b[0mfspath\u001b[0m\u001b[1;33m(\u001b[0m\u001b[0mcwd\u001b[0m\u001b[1;33m)\u001b[0m \u001b[1;32mif\u001b[0m \u001b[0mcwd\u001b[0m \u001b[1;32mis\u001b[0m \u001b[1;32mnot\u001b[0m \u001b[1;32mNone\u001b[0m \u001b[1;32melse\u001b[0m \u001b[1;32mNone\u001b[0m\u001b[1;33m,\u001b[0m\u001b[1;33m\u001b[0m\u001b[1;33m\u001b[0m\u001b[0m\n\u001b[1;32m-> 1017\u001b[1;33m                                          startupinfo)\n\u001b[0m\u001b[0;32m   1018\u001b[0m             \u001b[1;32mfinally\u001b[0m\u001b[1;33m:\u001b[0m\u001b[1;33m\u001b[0m\u001b[1;33m\u001b[0m\u001b[0m\n\u001b[0;32m   1019\u001b[0m                 \u001b[1;31m# Child is launched. Close the parent's copy of those pipe\u001b[0m\u001b[1;33m\u001b[0m\u001b[1;33m\u001b[0m\u001b[1;33m\u001b[0m\u001b[0m\n",
      "\u001b[1;31mFileNotFoundError\u001b[0m: [WinError 2] Impossibile trovare il file specificato"
     ]
    }
   ],
   "source": [
    "d=Downloader()\n",
    "d.download()"
   ]
  },
  {
   "cell_type": "markdown",
   "metadata": {},
   "source": [
    "### Loading APT Data"
   ]
  },
  {
   "cell_type": "code",
   "execution_count": 2,
   "metadata": {},
   "outputs": [],
   "source": [
    "f = open(\"data/apt_data.pkl\", \"rb\")\n",
    "data = pickle.load(f)\n",
    "f.close()"
   ]
  },
  {
   "cell_type": "code",
   "execution_count": 3,
   "metadata": {},
   "outputs": [],
   "source": [
    "apt = []\n",
    "file = []\n",
    "embeddings = []\n",
    "for k in data.keys():\n",
    "    emb = [f['embedding'] for f in data[k]['functions'] if f['lenght'] > 20]\n",
    "    emb = np.asarray(emb)\n",
    "    if emb.shape[0] > 0 and data[k]['apt'] != 'Lazarus Group':\n",
    "        embeddings.append(emb)\n",
    "        apt.append(data[k]['apt'].replace(\"\\n\",\"\"))\n",
    "        file.append(k)\n",
    "assert len(apt) == len(embeddings)"
   ]
  },
  {
   "cell_type": "markdown",
   "metadata": {},
   "source": [
    "### Preparing folds for cross validation"
   ]
  },
  {
   "cell_type": "code",
   "execution_count": 4,
   "metadata": {},
   "outputs": [],
   "source": [
    "skf = StratifiedKFold(n_splits=5, shuffle=True)\n",
    "fold = []\n",
    "for train_index, test_index in skf.split(embeddings, apt):\n",
    "    fold.append(test_index)"
   ]
  },
  {
   "cell_type": "code",
   "execution_count": 5,
   "metadata": {},
   "outputs": [],
   "source": [
    "def project(sample, space, SIM_THRESHOLD=0.95):\n",
    "    projection = []\n",
    "    for j in range(0, len(space)):\n",
    "        dot = np.dot(sample, space[j].T)\n",
    "        dist = np.sum(np.sum(dot > SIM_THRESHOLD, axis=1) > 0) / max(sample.shape[0], space[j].shape[0])\n",
    "        projection.append(dist)\n",
    "    return projection"
   ]
  },
  {
   "cell_type": "markdown",
   "metadata": {},
   "source": [
    "### Do Cross Validation"
   ]
  },
  {
   "cell_type": "code",
   "execution_count": null,
   "metadata": {},
   "outputs": [
    {
     "name": "stdout",
     "output_type": "stream",
     "text": [
      "Val fold: 0\n",
      "Projection fold: 1 Train fold: {2, 3, 4}\n",
      "Projecting training data\n"
     ]
    },
    {
     "name": "stderr",
     "output_type": "stream",
     "text": [
      "\n",
      "  0%|                                                                                                                                     | 0/984 [00:00<?, ?it/s]\n",
      "  0%|▎                                                                                                                            | 2/984 [00:00<01:46,  9.20it/s]\n",
      "  0%|▍                                                                                                                            | 3/984 [00:00<02:44,  5.95it/s]\n",
      "  1%|▉                                                                                                                            | 7/984 [00:00<02:08,  7.63it/s]\n",
      "  1%|█                                                                                                                            | 8/984 [00:00<02:08,  7.57it/s]\n",
      "  1%|█▍                                                                                                                          | 11/984 [00:01<01:57,  8.30it/s]\n",
      "  1%|█▌                                                                                                                          | 12/984 [00:01<01:53,  8.58it/s]\n",
      "  2%|█▉                                                                                                                          | 15/984 [00:01<01:29, 10.84it/s]\n",
      "  2%|██▏                                                                                                                         | 17/984 [00:01<01:33, 10.36it/s]\n",
      "  2%|██▉                                                                                                                         | 23/984 [00:01<01:10, 13.67it/s]\n",
      "  3%|███▎                                                                                                                        | 26/984 [00:01<01:05, 14.56it/s]\n",
      "  3%|███▋                                                                                                                        | 29/984 [00:02<01:08, 13.95it/s]\n",
      "  3%|███▉                                                                                                                        | 31/984 [00:02<01:31, 10.40it/s]\n",
      "  4%|████▍                                                                                                                       | 35/984 [00:02<01:16, 12.36it/s]\n",
      "  4%|████▋                                                                                                                       | 37/984 [00:02<01:27, 10.85it/s]\n",
      "  4%|█████▏                                                                                                                      | 41/984 [00:02<01:09, 13.53it/s]\n",
      "  4%|█████▌                                                                                                                      | 44/984 [00:03<01:14, 12.68it/s]\n",
      "  5%|██████▏                                                                                                                     | 49/984 [00:03<00:58, 16.07it/s]\n",
      "  5%|██████▌                                                                                                                     | 52/984 [00:03<00:54, 16.95it/s]\n",
      "  6%|██████▉                                                                                                                     | 55/984 [00:03<01:07, 13.73it/s]\n",
      "  6%|███████▏                                                                                                                    | 57/984 [00:03<01:15, 12.34it/s]\n",
      "  6%|███████▍                                                                                                                    | 59/984 [00:04<01:30, 10.20it/s]\n",
      "  6%|███████▉                                                                                                                    | 63/984 [00:04<01:19, 11.65it/s]\n",
      "  7%|████████▏                                                                                                                   | 65/984 [00:04<01:20, 11.45it/s]\n",
      "  7%|████████▌                                                                                                                   | 68/984 [00:04<01:24, 10.83it/s]\n",
      "  7%|████████▊                                                                                                                   | 70/984 [00:05<01:20, 11.37it/s]\n",
      "  7%|█████████                                                                                                                   | 72/984 [00:05<01:20, 11.34it/s]\n",
      "  8%|█████████▎                                                                                                                  | 74/984 [00:05<01:29, 10.17it/s]\n",
      "  8%|█████████▌                                                                                                                  | 76/984 [00:05<01:43,  8.80it/s]\n",
      "  8%|█████████▊                                                                                                                  | 78/984 [00:06<01:53,  8.01it/s]\n",
      "  8%|██████████                                                                                                                  | 80/984 [00:06<01:32,  9.72it/s]\n",
      "  8%|██████████▎                                                                                                                 | 82/984 [00:06<01:49,  8.21it/s]\n",
      "  9%|██████████▊                                                                                                                 | 86/984 [00:06<01:23, 10.76it/s]\n",
      "  9%|███████████▏                                                                                                                | 89/984 [00:06<01:13, 12.15it/s]\n",
      "  9%|███████████▍                                                                                                                | 91/984 [00:07<01:20, 11.10it/s]\n",
      "  9%|███████████▋                                                                                                                | 93/984 [00:07<01:53,  7.85it/s]\n",
      " 10%|███████████▉                                                                                                                | 95/984 [00:07<02:08,  6.92it/s]\n",
      " 10%|████████████▏                                                                                                               | 97/984 [00:07<01:45,  8.39it/s]\n",
      " 10%|████████████▋                                                                                                              | 101/984 [00:08<01:21, 10.80it/s]\n",
      " 11%|█████████████                                                                                                              | 104/984 [00:08<01:07, 13.09it/s]\n",
      " 11%|█████████████▍                                                                                                             | 107/984 [00:08<01:18, 11.12it/s]\n",
      " 11%|██████████████                                                                                                             | 112/984 [00:08<01:00, 14.49it/s]\n",
      " 12%|██████████████▍                                                                                                            | 115/984 [00:09<01:12, 12.06it/s]\n",
      " 12%|██████████████▊                                                                                                            | 118/984 [00:09<00:59, 14.55it/s]\n",
      " 12%|███████████████▍                                                                                                           | 123/984 [00:09<01:03, 13.65it/s]\n",
      " 13%|███████████████▊                                                                                                           | 126/984 [00:09<01:02, 13.75it/s]\n",
      " 13%|████████████████                                                                                                           | 128/984 [00:09<01:02, 13.69it/s]\n",
      " 13%|████████████████▎                                                                                                          | 130/984 [00:10<00:59, 14.45it/s]\n",
      " 14%|████████████████▊                                                                                                          | 134/984 [00:10<00:48, 17.46it/s]\n",
      " 14%|█████████████████▏                                                                                                         | 137/984 [00:10<00:44, 19.02it/s]\n",
      " 14%|█████████████████▌                                                                                                         | 140/984 [00:10<00:52, 15.99it/s]\n",
      " 14%|█████████████████▊                                                                                                         | 142/984 [00:10<00:59, 14.26it/s]\n",
      " 15%|██████████████████                                                                                                         | 144/984 [00:11<01:24,  9.99it/s]\n",
      " 15%|██████████████████▍                                                                                                        | 147/984 [00:11<01:13, 11.46it/s]\n",
      " 15%|██████████████████▋                                                                                                        | 149/984 [00:11<01:09, 12.08it/s]\n",
      " 15%|██████████████████▉                                                                                                        | 151/984 [00:11<01:09, 12.04it/s]\n",
      " 16%|███████████████████▌                                                                                                       | 156/984 [00:11<00:57, 14.41it/s]\n",
      " 16%|███████████████████▉                                                                                                       | 159/984 [00:11<00:48, 16.96it/s]\n",
      " 16%|████████████████████▎                                                                                                      | 162/984 [00:12<01:07, 12.17it/s]\n",
      " 17%|████████████████████▌                                                                                                      | 164/984 [00:12<01:22,  9.94it/s]\n",
      " 17%|████████████████████▊                                                                                                      | 166/984 [00:12<01:21, 10.04it/s]\n",
      " 17%|█████████████████████                                                                                                      | 168/984 [00:12<01:09, 11.73it/s]\n",
      " 17%|█████████████████████▎                                                                                                     | 170/984 [00:13<01:20, 10.11it/s]\n",
      " 17%|█████████████████████▌                                                                                                     | 172/984 [00:13<01:27,  9.23it/s]\n",
      " 18%|█████████████████████▊                                                                                                     | 174/984 [00:13<01:42,  7.87it/s]\n",
      " 18%|██████████████████████▏                                                                                                    | 177/984 [00:13<01:20, 10.02it/s]\n",
      " 18%|██████████████████████▍                                                                                                    | 179/984 [00:13<01:12, 11.07it/s]\n",
      " 18%|██████████████████████▋                                                                                                    | 181/984 [00:14<01:04, 12.50it/s]\n",
      " 19%|██████████████████████▉                                                                                                    | 183/984 [00:14<01:02, 12.87it/s]\n",
      " 19%|███████████████████████▏                                                                                                   | 185/984 [00:14<01:08, 11.72it/s]\n",
      " 19%|███████████████████████▍                                                                                                   | 187/984 [00:14<01:10, 11.23it/s]\n",
      " 20%|████████████████████████                                                                                                   | 192/984 [00:14<00:55, 14.38it/s]\n",
      " 20%|████████████████████████▍                                                                                                  | 195/984 [00:14<00:46, 16.82it/s]\n",
      " 20%|████████████████████████▊                                                                                                  | 198/984 [00:15<00:53, 14.74it/s]\n",
      " 20%|█████████████████████████                                                                                                  | 200/984 [00:15<00:53, 14.61it/s]\n",
      " 21%|█████████████████████████▍                                                                                                 | 203/984 [00:15<00:54, 14.24it/s]\n",
      " 21%|█████████████████████████▋                                                                                                 | 205/984 [00:15<01:03, 12.32it/s]\n",
      " 21%|██████████████████████████▍                                                                                                | 211/984 [00:15<00:48, 15.83it/s]\n",
      " 22%|██████████████████████████▊                                                                                                | 214/984 [00:16<00:52, 14.67it/s]\n",
      " 22%|███████████████████████████▌                                                                                               | 220/984 [00:16<00:42, 17.77it/s]\n",
      " 23%|████████████████████████████                                                                                               | 224/984 [00:16<00:36, 20.77it/s]"
     ]
    }
   ],
   "source": [
    "C = [100]\n",
    "gamma = [0.1]\n",
    "\n",
    "result = []\n",
    "for i in range(0, 5):\n",
    "    print(\"Val fold: {}\".format(i))\n",
    "    val_emb = [embeddings[f] for f in fold[i]]\n",
    "    val_apt = [apt[f] for f in fold[i]]\n",
    "    for j in range(0, 5):\n",
    "        if i == j:\n",
    "            continue\n",
    "        projection_emb = [embeddings[f] for f in fold[j]]\n",
    "        train_fold = set(range(0,5)).difference(set([i,j]))\n",
    "        train_emb = []\n",
    "        train_apt = []\n",
    "        for ff in train_fold:\n",
    "            train_emb.extend([embeddings[f] for f in fold[ff]])\n",
    "            train_apt.extend([apt[f] for f in fold[ff]])\n",
    "        print(\"Projection fold: {} Train fold: {}\".format(j, train_fold))\n",
    "        print(\"Projecting training data\")\n",
    "        train_data = []\n",
    "        for k in tqdm(range(0, len(train_emb))):\n",
    "            train_data.append(project(train_emb[k], projection_emb))\n",
    "            \n",
    "        print(\"Projecting validation data\")\n",
    "        val_data = []\n",
    "        for k in tqdm(range(0, len(val_emb))):\n",
    "            val_data.append(project(val_emb[k], projection_emb))\n",
    "\n",
    "        max_acc = 0\n",
    "        best_c = None\n",
    "        best_gamma = None\n",
    "\n",
    "        print(\"Classification\")\n",
    "        for c in tqdm(C):\n",
    "            for g in gamma:\n",
    "                clf = SVC(C=c, gamma=g, kernel=\"rbf\")\n",
    "                clf.fit(train_data, train_apt)\n",
    "                predictions = clf.predict(val_data)\n",
    "                acc = metrics.accuracy_score(val_apt, predictions)\n",
    "                if acc > max_acc:\n",
    "                    best_c = c\n",
    "                    best_gamma = g\n",
    "                    best_predictions = predictions\n",
    "                    max_acc = acc\n",
    "                    \n",
    "        print(\"Best C: {}, Best GAMMA: {}, Validation Accuracy {}\".format(best_c, best_gamma, max_acc))\n",
    "        \n",
    "        obj = {\n",
    "            \"val_fold\":i,\n",
    "            \"projection_fold\":j,\n",
    "            \"train_fold\":train_fold,\n",
    "            \"C\":best_c,\n",
    "            \"gamma\": best_gamma,\n",
    "            \"accuracy\": max_acc,\n",
    "            \"predictions\":best_predictions,\n",
    "            \"label\":val_apt\n",
    "        }\n",
    "        \n",
    "        result.append(obj)\n"
   ]
  },
  {
   "cell_type": "markdown",
   "metadata": {},
   "source": [
    "### Saving result"
   ]
  },
  {
   "cell_type": "code",
   "execution_count": 8,
   "metadata": {},
   "outputs": [],
   "source": [
    "import pickle\n",
    "f = open('result_cross_val_svm.pkl','wb')\n",
    "pickle.dump(result, f)\n",
    "f.close()"
   ]
  },
  {
   "cell_type": "markdown",
   "metadata": {},
   "source": [
    "### Print Confusion Matrix"
   ]
  },
  {
   "cell_type": "code",
   "execution_count": 9,
   "metadata": {},
   "outputs": [],
   "source": [
    "actual_val_fold = i\n",
    "cum_report = None\n",
    "cnf = np.zeros([len(set(result[0]['label'])),len(set(result[0]['label']))])\n",
    "labels = list(set(result[0]['label']))\n",
    "for r in result:\n",
    "    report = metrics.classification_report(r['predictions'], r['label'], output_dict=True)\n",
    "    cnf = (cnf + metrics.confusion_matrix(r['predictions'], r['label'], labels=labels)) / 2\n",
    "    if cum_report == None:\n",
    "        cum_report = report\n",
    "    else:\n",
    "        for k in report.keys():\n",
    "            if k != 'accuracy':\n",
    "                cum_report[k]['precision'] = (cum_report[k]['precision'] + report[k]['precision']) / 2\n",
    "                cum_report[k]['recall'] = (cum_report[k]['recall'] + report[k]['recall']) / 2\n",
    "                cum_report[k]['f1-score'] = (cum_report[k]['f1-score'] + report[k]['f1-score']) / 2\n",
    "                cum_report[k]['support'] = (cum_report[k]['support'] + report[k]['support']) / 2\n",
    "            else:\n",
    "                cum_report[k] = (cum_report[k] + report[k]) / 2"
   ]
  },
  {
   "cell_type": "code",
   "execution_count": 10,
   "metadata": {},
   "outputs": [],
   "source": [
    "import pandas as pd\n",
    "import seaborn as sns\n",
    "import matplotlib.pyplot as plt"
   ]
  },
  {
   "cell_type": "code",
   "execution_count": 11,
   "metadata": {},
   "outputs": [],
   "source": [
    "labels[4] = 'Sandworm'"
   ]
  },
  {
   "cell_type": "code",
   "execution_count": 12,
   "metadata": {},
   "outputs": [
    {
     "data": {
      "image/png": "[encoded data removed]",
      "text/plain": [
       "<Figure size 720x720 with 2 Axes>"
      ]
     },
     "metadata": {
      "needs_background": "light"
     },
     "output_type": "display_data"
    }
   ],
   "source": [
    "df_cm = pd.DataFrame(cnf, index=labels, columns=labels)\n",
    "df_cm = df_cm.div(df_cm.sum(axis=1), axis=0)\n",
    "fig = plt.figure(figsize=(10,10))\n",
    "heatmap = sns.heatmap(df_cm, annot=True, fmt=\".2f\", square=True, cmap = sns.cm.rocket_r)\n",
    "plt.savefig(\"confusion_matrix_cross_val_svm.png\")"
   ]
  },
  {
   "cell_type": "code",
   "execution_count": 13,
   "metadata": {},
   "outputs": [],
   "source": [
    "report = pd.DataFrame(cum_report).T.round(3)"
   ]
  },
  {
   "cell_type": "code",
   "execution_count": 14,
   "metadata": {},
   "outputs": [
    {
     "data": {
      "text/html": [
       "<div>\n",
       "<style scoped>\n",
       "    .dataframe tbody tr th:only-of-type {\n",
       "        vertical-align: middle;\n",
       "    }\n",
       "\n",
       "    .dataframe tbody tr th {\n",
       "        vertical-align: top;\n",
       "    }\n",
       "\n",
       "    .dataframe thead th {\n",
       "        text-align: right;\n",
       "    }\n",
       "</style>\n",
       "<table border=\"1\" class=\"dataframe\">\n",
       "  <thead>\n",
       "    <tr style=\"text-align: right;\">\n",
       "      <th></th>\n",
       "      <th>precision</th>\n",
       "      <th>recall</th>\n",
       "      <th>f1-score</th>\n",
       "      <th>support</th>\n",
       "    </tr>\n",
       "  </thead>\n",
       "  <tbody>\n",
       "    <tr>\n",
       "      <th>APT28</th>\n",
       "      <td>0.612</td>\n",
       "      <td>0.972</td>\n",
       "      <td>0.742</td>\n",
       "      <td>8.875</td>\n",
       "    </tr>\n",
       "    <tr>\n",
       "      <th>APT29</th>\n",
       "      <td>0.879</td>\n",
       "      <td>0.786</td>\n",
       "      <td>0.830</td>\n",
       "      <td>32.500</td>\n",
       "    </tr>\n",
       "    <tr>\n",
       "      <th>APT30</th>\n",
       "      <td>0.956</td>\n",
       "      <td>0.960</td>\n",
       "      <td>0.956</td>\n",
       "      <td>17.000</td>\n",
       "    </tr>\n",
       "    <tr>\n",
       "      <th>Carbanak</th>\n",
       "      <td>0.652</td>\n",
       "      <td>0.683</td>\n",
       "      <td>0.655</td>\n",
       "      <td>14.375</td>\n",
       "    </tr>\n",
       "    <tr>\n",
       "      <th>Desert Falcon</th>\n",
       "      <td>0.833</td>\n",
       "      <td>0.828</td>\n",
       "      <td>0.819</td>\n",
       "      <td>8.500</td>\n",
       "    </tr>\n",
       "    <tr>\n",
       "      <th>Hurricane Panda</th>\n",
       "      <td>0.968</td>\n",
       "      <td>0.972</td>\n",
       "      <td>0.970</td>\n",
       "      <td>61.750</td>\n",
       "    </tr>\n",
       "    <tr>\n",
       "      <th>Lazarus Group</th>\n",
       "      <td>0.897</td>\n",
       "      <td>0.821</td>\n",
       "      <td>0.855</td>\n",
       "      <td>12.625</td>\n",
       "    </tr>\n",
       "    <tr>\n",
       "      <th>Mirage</th>\n",
       "      <td>0.727</td>\n",
       "      <td>0.807</td>\n",
       "      <td>0.762</td>\n",
       "      <td>10.000</td>\n",
       "    </tr>\n",
       "    <tr>\n",
       "      <th>Patchwork</th>\n",
       "      <td>0.907</td>\n",
       "      <td>0.972</td>\n",
       "      <td>0.938</td>\n",
       "      <td>89.188</td>\n",
       "    </tr>\n",
       "    <tr>\n",
       "      <th>Sandwork</th>\n",
       "      <td>0.944</td>\n",
       "      <td>0.386</td>\n",
       "      <td>0.547</td>\n",
       "      <td>22.062</td>\n",
       "    </tr>\n",
       "    <tr>\n",
       "      <th>Shiqiang</th>\n",
       "      <td>0.833</td>\n",
       "      <td>0.929</td>\n",
       "      <td>0.874</td>\n",
       "      <td>5.500</td>\n",
       "    </tr>\n",
       "    <tr>\n",
       "      <th>Transparent Tribe</th>\n",
       "      <td>0.727</td>\n",
       "      <td>0.838</td>\n",
       "      <td>0.770</td>\n",
       "      <td>9.625</td>\n",
       "    </tr>\n",
       "    <tr>\n",
       "      <th>Violin Panda</th>\n",
       "      <td>0.700</td>\n",
       "      <td>0.652</td>\n",
       "      <td>0.660</td>\n",
       "      <td>5.625</td>\n",
       "    </tr>\n",
       "    <tr>\n",
       "      <th>Volatile Cedar</th>\n",
       "      <td>1.000</td>\n",
       "      <td>1.000</td>\n",
       "      <td>1.000</td>\n",
       "      <td>7.000</td>\n",
       "    </tr>\n",
       "    <tr>\n",
       "      <th>Winnti Group</th>\n",
       "      <td>0.865</td>\n",
       "      <td>0.979</td>\n",
       "      <td>0.917</td>\n",
       "      <td>31.375</td>\n",
       "    </tr>\n",
       "    <tr>\n",
       "      <th>accuracy</th>\n",
       "      <td>0.875</td>\n",
       "      <td>0.875</td>\n",
       "      <td>0.875</td>\n",
       "      <td>0.875</td>\n",
       "    </tr>\n",
       "    <tr>\n",
       "      <th>macro avg</th>\n",
       "      <td>0.833</td>\n",
       "      <td>0.839</td>\n",
       "      <td>0.820</td>\n",
       "      <td>336.000</td>\n",
       "    </tr>\n",
       "    <tr>\n",
       "      <th>weighted avg</th>\n",
       "      <td>0.886</td>\n",
       "      <td>0.875</td>\n",
       "      <td>0.869</td>\n",
       "      <td>336.000</td>\n",
       "    </tr>\n",
       "  </tbody>\n",
       "</table>\n",
       "</div>"
      ],
      "text/plain": [
       "                   precision  recall  f1-score  support\n",
       "APT28                  0.612   0.972     0.742    8.875\n",
       "APT29                  0.879   0.786     0.830   32.500\n",
       "APT30                  0.956   0.960     0.956   17.000\n",
       "Carbanak               0.652   0.683     0.655   14.375\n",
       "Desert Falcon          0.833   0.828     0.819    8.500\n",
       "Hurricane Panda        0.968   0.972     0.970   61.750\n",
       "Lazarus Group          0.897   0.821     0.855   12.625\n",
       "Mirage                 0.727   0.807     0.762   10.000\n",
       "Patchwork              0.907   0.972     0.938   89.188\n",
       "Sandwork               0.944   0.386     0.547   22.062\n",
       "Shiqiang               0.833   0.929     0.874    5.500\n",
       "Transparent Tribe      0.727   0.838     0.770    9.625\n",
       "Violin Panda           0.700   0.652     0.660    5.625\n",
       "Volatile Cedar         1.000   1.000     1.000    7.000\n",
       "Winnti Group           0.865   0.979     0.917   31.375\n",
       "accuracy               0.875   0.875     0.875    0.875\n",
       "macro avg              0.833   0.839     0.820  336.000\n",
       "weighted avg           0.886   0.875     0.869  336.000"
      ]
     },
     "execution_count": 14,
     "metadata": {},
     "output_type": "execute_result"
    }
   ],
   "source": [
    "report"
   ]
  },
  {
   "cell_type": "code",
   "execution_count": 15,
   "metadata": {},
   "outputs": [
    {
     "name": "stderr",
     "output_type": "stream",
     "text": [
      " 32%|███████████████████████████████████████▍                                                                                   | 318/992 [00:30<01:19,  8.49it/s]"
     ]
    }
   ],
   "source": [
    "f = open(\"classification_result_svm_cross_val.tex\",\"w\")\n",
    "f.write(report.to_latex())\n",
    "f.close()"
   ]
  },
  {
   "cell_type": "code",
   "execution_count": null,
   "metadata": {},
   "outputs": [],
   "source": []
  }
 ],
 "metadata": {
  "kernelspec": {
   "display_name": "Python 3",
   "language": "python",
   "name": "python3"
  },
  "language_info": {
   "codemirror_mode": {
    "name": "ipython",
    "version": 3
   },
   "file_extension": ".py",
   "mimetype": "text/x-python",
   "name": "python",
   "nbconvert_exporter": "python",
   "pygments_lexer": "ipython3",
   "version": "3.6.9"
  }
 },
 "nbformat": 4,
 "nbformat_minor": 4
}
